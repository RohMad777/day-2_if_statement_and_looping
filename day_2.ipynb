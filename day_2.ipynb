{
 "cells": [
  {
   "cell_type": "markdown",
   "id": "f416e8e8",
   "metadata": {},
   "source": [
    "# If, Elif, Else Statements"
   ]
  },
  {
   "cell_type": "code",
   "execution_count": 35,
   "id": "39ff30bf",
   "metadata": {},
   "outputs": [
    {
     "name": "stdout",
     "output_type": "stream",
     "text": [
      "Beli Majalah\n"
     ]
    }
   ],
   "source": [
    "hargaBuku = 20000\n",
    "hargaMajalah = 50000\n",
    "uang = 250000\n",
    "\n",
    "if uang >= hargaBuku and uang <= hargaMajalah:  #jika uang lebih dari harga buku dan uang kurang dari harga majalah maka \"beli buku\"\n",
    "    print(\"Beli Buku\")\n",
    "elif uang >= hargaMajalah: #jika uang lebih dari harga majalah beli amajalah\n",
    "    print(\"Beli Majalah\")\n",
    "else:\n",
    "    print(\"Uang tidak cukup\") #selain itu uang tidak cukup"
   ]
  },
  {
   "cell_type": "markdown",
   "id": "15edd074",
   "metadata": {},
   "source": [
    "# Ternary Operators"
   ]
  },
  {
   "cell_type": "code",
   "execution_count": 38,
   "id": "b057be72",
   "metadata": {},
   "outputs": [
    {
     "name": "stdout",
     "output_type": "stream",
     "text": [
      "TEEN\n"
     ]
    },
    {
     "data": {
      "text/plain": [
       "'no'"
      ]
     },
     "execution_count": 38,
     "metadata": {},
     "output_type": "execute_result"
    }
   ],
   "source": [
    "age = 12\n",
    "ages = 'TEEN' if age < 21 else 'ADULT' #TEEN adalah kondisi jika ekspressi benar, ADULT jika salah\n",
    "print(ages)\n",
    "'yes' if('qux' in ['foo','bar','baz']) else 'no'"
   ]
  },
  {
   "cell_type": "code",
   "execution_count": null,
   "id": "9d9984e2",
   "metadata": {},
   "outputs": [],
   "source": []
  }
 ],
 "metadata": {
  "kernelspec": {
   "display_name": "Python 3",
   "language": "python",
   "name": "python3"
  },
  "language_info": {
   "codemirror_mode": {
    "name": "ipython",
    "version": 3
   },
   "file_extension": ".py",
   "mimetype": "text/x-python",
   "name": "python",
   "nbconvert_exporter": "python",
   "pygments_lexer": "ipython3",
   "version": "3.8.8"
  }
 },
 "nbformat": 4,
 "nbformat_minor": 5
}
